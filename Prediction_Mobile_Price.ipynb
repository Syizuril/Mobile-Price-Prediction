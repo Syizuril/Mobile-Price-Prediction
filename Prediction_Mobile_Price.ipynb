{
 "metadata": {
  "language_info": {
   "codemirror_mode": {
    "name": "ipython",
    "version": 3
   },
   "file_extension": ".py",
   "mimetype": "text/x-python",
   "name": "python",
   "nbconvert_exporter": "python",
   "pygments_lexer": "ipython3",
   "version": "3.8.5-final"
  },
  "orig_nbformat": 2,
  "kernelspec": {
   "name": "python3",
   "display_name": "Python 3",
   "language": "python"
  }
 },
 "nbformat": 4,
 "nbformat_minor": 2,
 "cells": [
  {
   "cell_type": "code",
   "execution_count": 28,
   "metadata": {},
   "outputs": [],
   "source": [
    "import numpy as np\n",
    "import matplotlib.pyplot as plt\n",
    "import pandas as pd\n",
    "import seaborn as sn\n",
    "from sklearn.metrics import accuracy_score\n",
    "from sklearn.feature_selection import SelectKBest,chi2\n",
    "from sklearn.ensemble import ExtraTreesClassifier\n",
    "from sklearn.ensemble import RandomForestClassifier\n",
    "from sklearn.neighbors import KNeighborsClassifier\n",
    "from sklearn.tree import DecisionTreeClassifier\n",
    "from sklearn import model_selection\n",
    "from sklearn.model_selection import train_test_split\n",
    "from sklearn.pipeline import Pipeline\n",
    "from sklearn.preprocessing import StandardScaler\n",
    "from sklearn.decomposition import PCA\n",
    "from sklearn.model_selection import GridSearchCV\n",
    "#Import segala library yg dibutuhkan"
   ]
  },
  {
   "cell_type": "code",
   "execution_count": 29,
   "metadata": {},
   "outputs": [
    {
     "output_type": "execute_result",
     "data": {
      "text/plain": [
       "   battery_power  blue  clock_speed  dual_sim  fc  four_g  int_memory  m_dep  \\\n",
       "0            842     0          2.2         0   1       0           7    0.6   \n",
       "1           1021     1          0.5         1   0       1          53    0.7   \n",
       "2            563     1          0.5         1   2       1          41    0.9   \n",
       "3            615     1          2.5         0   0       0          10    0.8   \n",
       "4           1821     1          1.2         0  13       1          44    0.6   \n",
       "\n",
       "   mobile_wt  n_cores  ...  px_height  px_width   ram  sc_h  sc_w  talk_time  \\\n",
       "0        188        2  ...         20       756  2549     9     7         19   \n",
       "1        136        3  ...        905      1988  2631    17     3          7   \n",
       "2        145        5  ...       1263      1716  2603    11     2          9   \n",
       "3        131        6  ...       1216      1786  2769    16     8         11   \n",
       "4        141        2  ...       1208      1212  1411     8     2         15   \n",
       "\n",
       "   three_g  touch_screen  wifi  price_range  \n",
       "0        0             0     1            1  \n",
       "1        1             1     0            2  \n",
       "2        1             1     0            2  \n",
       "3        1             0     0            2  \n",
       "4        1             1     0            1  \n",
       "\n",
       "[5 rows x 21 columns]"
      ],
      "text/html": "<div>\n<style scoped>\n    .dataframe tbody tr th:only-of-type {\n        vertical-align: middle;\n    }\n\n    .dataframe tbody tr th {\n        vertical-align: top;\n    }\n\n    .dataframe thead th {\n        text-align: right;\n    }\n</style>\n<table border=\"1\" class=\"dataframe\">\n  <thead>\n    <tr style=\"text-align: right;\">\n      <th></th>\n      <th>battery_power</th>\n      <th>blue</th>\n      <th>clock_speed</th>\n      <th>dual_sim</th>\n      <th>fc</th>\n      <th>four_g</th>\n      <th>int_memory</th>\n      <th>m_dep</th>\n      <th>mobile_wt</th>\n      <th>n_cores</th>\n      <th>...</th>\n      <th>px_height</th>\n      <th>px_width</th>\n      <th>ram</th>\n      <th>sc_h</th>\n      <th>sc_w</th>\n      <th>talk_time</th>\n      <th>three_g</th>\n      <th>touch_screen</th>\n      <th>wifi</th>\n      <th>price_range</th>\n    </tr>\n  </thead>\n  <tbody>\n    <tr>\n      <th>0</th>\n      <td>842</td>\n      <td>0</td>\n      <td>2.2</td>\n      <td>0</td>\n      <td>1</td>\n      <td>0</td>\n      <td>7</td>\n      <td>0.6</td>\n      <td>188</td>\n      <td>2</td>\n      <td>...</td>\n      <td>20</td>\n      <td>756</td>\n      <td>2549</td>\n      <td>9</td>\n      <td>7</td>\n      <td>19</td>\n      <td>0</td>\n      <td>0</td>\n      <td>1</td>\n      <td>1</td>\n    </tr>\n    <tr>\n      <th>1</th>\n      <td>1021</td>\n      <td>1</td>\n      <td>0.5</td>\n      <td>1</td>\n      <td>0</td>\n      <td>1</td>\n      <td>53</td>\n      <td>0.7</td>\n      <td>136</td>\n      <td>3</td>\n      <td>...</td>\n      <td>905</td>\n      <td>1988</td>\n      <td>2631</td>\n      <td>17</td>\n      <td>3</td>\n      <td>7</td>\n      <td>1</td>\n      <td>1</td>\n      <td>0</td>\n      <td>2</td>\n    </tr>\n    <tr>\n      <th>2</th>\n      <td>563</td>\n      <td>1</td>\n      <td>0.5</td>\n      <td>1</td>\n      <td>2</td>\n      <td>1</td>\n      <td>41</td>\n      <td>0.9</td>\n      <td>145</td>\n      <td>5</td>\n      <td>...</td>\n      <td>1263</td>\n      <td>1716</td>\n      <td>2603</td>\n      <td>11</td>\n      <td>2</td>\n      <td>9</td>\n      <td>1</td>\n      <td>1</td>\n      <td>0</td>\n      <td>2</td>\n    </tr>\n    <tr>\n      <th>3</th>\n      <td>615</td>\n      <td>1</td>\n      <td>2.5</td>\n      <td>0</td>\n      <td>0</td>\n      <td>0</td>\n      <td>10</td>\n      <td>0.8</td>\n      <td>131</td>\n      <td>6</td>\n      <td>...</td>\n      <td>1216</td>\n      <td>1786</td>\n      <td>2769</td>\n      <td>16</td>\n      <td>8</td>\n      <td>11</td>\n      <td>1</td>\n      <td>0</td>\n      <td>0</td>\n      <td>2</td>\n    </tr>\n    <tr>\n      <th>4</th>\n      <td>1821</td>\n      <td>1</td>\n      <td>1.2</td>\n      <td>0</td>\n      <td>13</td>\n      <td>1</td>\n      <td>44</td>\n      <td>0.6</td>\n      <td>141</td>\n      <td>2</td>\n      <td>...</td>\n      <td>1208</td>\n      <td>1212</td>\n      <td>1411</td>\n      <td>8</td>\n      <td>2</td>\n      <td>15</td>\n      <td>1</td>\n      <td>1</td>\n      <td>0</td>\n      <td>1</td>\n    </tr>\n  </tbody>\n</table>\n<p>5 rows × 21 columns</p>\n</div>"
     },
     "metadata": {},
     "execution_count": 29
    }
   ],
   "source": [
    "dataset = pd.read_csv('dataset/train.csv')\n",
    "dataset.head()\n",
    "#masukin data training sebagai dataset"
   ]
  },
  {
   "cell_type": "code",
   "execution_count": 30,
   "metadata": {},
   "outputs": [
    {
     "output_type": "stream",
     "name": "stdout",
     "text": [
      "<class 'pandas.core.frame.DataFrame'>\nRangeIndex: 2000 entries, 0 to 1999\nData columns (total 21 columns):\n #   Column         Non-Null Count  Dtype  \n---  ------         --------------  -----  \n 0   battery_power  2000 non-null   int64  \n 1   blue           2000 non-null   int64  \n 2   clock_speed    2000 non-null   float64\n 3   dual_sim       2000 non-null   int64  \n 4   fc             2000 non-null   int64  \n 5   four_g         2000 non-null   int64  \n 6   int_memory     2000 non-null   int64  \n 7   m_dep          2000 non-null   float64\n 8   mobile_wt      2000 non-null   int64  \n 9   n_cores        2000 non-null   int64  \n 10  pc             2000 non-null   int64  \n 11  px_height      2000 non-null   int64  \n 12  px_width       2000 non-null   int64  \n 13  ram            2000 non-null   int64  \n 14  sc_h           2000 non-null   int64  \n 15  sc_w           2000 non-null   int64  \n 16  talk_time      2000 non-null   int64  \n 17  three_g        2000 non-null   int64  \n 18  touch_screen   2000 non-null   int64  \n 19  wifi           2000 non-null   int64  \n 20  price_range    2000 non-null   int64  \ndtypes: float64(2), int64(19)\nmemory usage: 328.2 KB\n"
     ]
    }
   ],
   "source": [
    "dataset.info()\n",
    "#Melihat info dataset"
   ]
  },
  {
   "cell_type": "code",
   "execution_count": 31,
   "metadata": {},
   "outputs": [
    {
     "output_type": "execute_result",
     "data": {
      "text/plain": [
       "       battery_power       blue  clock_speed     dual_sim           fc  \\\n",
       "count    2000.000000  2000.0000  2000.000000  2000.000000  2000.000000   \n",
       "mean     1238.518500     0.4950     1.522250     0.509500     4.309500   \n",
       "std       439.418206     0.5001     0.816004     0.500035     4.341444   \n",
       "min       501.000000     0.0000     0.500000     0.000000     0.000000   \n",
       "25%       851.750000     0.0000     0.700000     0.000000     1.000000   \n",
       "50%      1226.000000     0.0000     1.500000     1.000000     3.000000   \n",
       "75%      1615.250000     1.0000     2.200000     1.000000     7.000000   \n",
       "max      1998.000000     1.0000     3.000000     1.000000    19.000000   \n",
       "\n",
       "            four_g   int_memory        m_dep    mobile_wt      n_cores  ...  \\\n",
       "count  2000.000000  2000.000000  2000.000000  2000.000000  2000.000000  ...   \n",
       "mean      0.521500    32.046500     0.501750   140.249000     4.520500  ...   \n",
       "std       0.499662    18.145715     0.288416    35.399655     2.287837  ...   \n",
       "min       0.000000     2.000000     0.100000    80.000000     1.000000  ...   \n",
       "25%       0.000000    16.000000     0.200000   109.000000     3.000000  ...   \n",
       "50%       1.000000    32.000000     0.500000   141.000000     4.000000  ...   \n",
       "75%       1.000000    48.000000     0.800000   170.000000     7.000000  ...   \n",
       "max       1.000000    64.000000     1.000000   200.000000     8.000000  ...   \n",
       "\n",
       "         px_height     px_width          ram         sc_h         sc_w  \\\n",
       "count  2000.000000  2000.000000  2000.000000  2000.000000  2000.000000   \n",
       "mean    645.108000  1251.515500  2124.213000    12.306500     5.767000   \n",
       "std     443.780811   432.199447  1084.732044     4.213245     4.356398   \n",
       "min       0.000000   500.000000   256.000000     5.000000     0.000000   \n",
       "25%     282.750000   874.750000  1207.500000     9.000000     2.000000   \n",
       "50%     564.000000  1247.000000  2146.500000    12.000000     5.000000   \n",
       "75%     947.250000  1633.000000  3064.500000    16.000000     9.000000   \n",
       "max    1960.000000  1998.000000  3998.000000    19.000000    18.000000   \n",
       "\n",
       "         talk_time      three_g  touch_screen         wifi  price_range  \n",
       "count  2000.000000  2000.000000   2000.000000  2000.000000  2000.000000  \n",
       "mean     11.011000     0.761500      0.503000     0.507000     1.500000  \n",
       "std       5.463955     0.426273      0.500116     0.500076     1.118314  \n",
       "min       2.000000     0.000000      0.000000     0.000000     0.000000  \n",
       "25%       6.000000     1.000000      0.000000     0.000000     0.750000  \n",
       "50%      11.000000     1.000000      1.000000     1.000000     1.500000  \n",
       "75%      16.000000     1.000000      1.000000     1.000000     2.250000  \n",
       "max      20.000000     1.000000      1.000000     1.000000     3.000000  \n",
       "\n",
       "[8 rows x 21 columns]"
      ],
      "text/html": "<div>\n<style scoped>\n    .dataframe tbody tr th:only-of-type {\n        vertical-align: middle;\n    }\n\n    .dataframe tbody tr th {\n        vertical-align: top;\n    }\n\n    .dataframe thead th {\n        text-align: right;\n    }\n</style>\n<table border=\"1\" class=\"dataframe\">\n  <thead>\n    <tr style=\"text-align: right;\">\n      <th></th>\n      <th>battery_power</th>\n      <th>blue</th>\n      <th>clock_speed</th>\n      <th>dual_sim</th>\n      <th>fc</th>\n      <th>four_g</th>\n      <th>int_memory</th>\n      <th>m_dep</th>\n      <th>mobile_wt</th>\n      <th>n_cores</th>\n      <th>...</th>\n      <th>px_height</th>\n      <th>px_width</th>\n      <th>ram</th>\n      <th>sc_h</th>\n      <th>sc_w</th>\n      <th>talk_time</th>\n      <th>three_g</th>\n      <th>touch_screen</th>\n      <th>wifi</th>\n      <th>price_range</th>\n    </tr>\n  </thead>\n  <tbody>\n    <tr>\n      <th>count</th>\n      <td>2000.000000</td>\n      <td>2000.0000</td>\n      <td>2000.000000</td>\n      <td>2000.000000</td>\n      <td>2000.000000</td>\n      <td>2000.000000</td>\n      <td>2000.000000</td>\n      <td>2000.000000</td>\n      <td>2000.000000</td>\n      <td>2000.000000</td>\n      <td>...</td>\n      <td>2000.000000</td>\n      <td>2000.000000</td>\n      <td>2000.000000</td>\n      <td>2000.000000</td>\n      <td>2000.000000</td>\n      <td>2000.000000</td>\n      <td>2000.000000</td>\n      <td>2000.000000</td>\n      <td>2000.000000</td>\n      <td>2000.000000</td>\n    </tr>\n    <tr>\n      <th>mean</th>\n      <td>1238.518500</td>\n      <td>0.4950</td>\n      <td>1.522250</td>\n      <td>0.509500</td>\n      <td>4.309500</td>\n      <td>0.521500</td>\n      <td>32.046500</td>\n      <td>0.501750</td>\n      <td>140.249000</td>\n      <td>4.520500</td>\n      <td>...</td>\n      <td>645.108000</td>\n      <td>1251.515500</td>\n      <td>2124.213000</td>\n      <td>12.306500</td>\n      <td>5.767000</td>\n      <td>11.011000</td>\n      <td>0.761500</td>\n      <td>0.503000</td>\n      <td>0.507000</td>\n      <td>1.500000</td>\n    </tr>\n    <tr>\n      <th>std</th>\n      <td>439.418206</td>\n      <td>0.5001</td>\n      <td>0.816004</td>\n      <td>0.500035</td>\n      <td>4.341444</td>\n      <td>0.499662</td>\n      <td>18.145715</td>\n      <td>0.288416</td>\n      <td>35.399655</td>\n      <td>2.287837</td>\n      <td>...</td>\n      <td>443.780811</td>\n      <td>432.199447</td>\n      <td>1084.732044</td>\n      <td>4.213245</td>\n      <td>4.356398</td>\n      <td>5.463955</td>\n      <td>0.426273</td>\n      <td>0.500116</td>\n      <td>0.500076</td>\n      <td>1.118314</td>\n    </tr>\n    <tr>\n      <th>min</th>\n      <td>501.000000</td>\n      <td>0.0000</td>\n      <td>0.500000</td>\n      <td>0.000000</td>\n      <td>0.000000</td>\n      <td>0.000000</td>\n      <td>2.000000</td>\n      <td>0.100000</td>\n      <td>80.000000</td>\n      <td>1.000000</td>\n      <td>...</td>\n      <td>0.000000</td>\n      <td>500.000000</td>\n      <td>256.000000</td>\n      <td>5.000000</td>\n      <td>0.000000</td>\n      <td>2.000000</td>\n      <td>0.000000</td>\n      <td>0.000000</td>\n      <td>0.000000</td>\n      <td>0.000000</td>\n    </tr>\n    <tr>\n      <th>25%</th>\n      <td>851.750000</td>\n      <td>0.0000</td>\n      <td>0.700000</td>\n      <td>0.000000</td>\n      <td>1.000000</td>\n      <td>0.000000</td>\n      <td>16.000000</td>\n      <td>0.200000</td>\n      <td>109.000000</td>\n      <td>3.000000</td>\n      <td>...</td>\n      <td>282.750000</td>\n      <td>874.750000</td>\n      <td>1207.500000</td>\n      <td>9.000000</td>\n      <td>2.000000</td>\n      <td>6.000000</td>\n      <td>1.000000</td>\n      <td>0.000000</td>\n      <td>0.000000</td>\n      <td>0.750000</td>\n    </tr>\n    <tr>\n      <th>50%</th>\n      <td>1226.000000</td>\n      <td>0.0000</td>\n      <td>1.500000</td>\n      <td>1.000000</td>\n      <td>3.000000</td>\n      <td>1.000000</td>\n      <td>32.000000</td>\n      <td>0.500000</td>\n      <td>141.000000</td>\n      <td>4.000000</td>\n      <td>...</td>\n      <td>564.000000</td>\n      <td>1247.000000</td>\n      <td>2146.500000</td>\n      <td>12.000000</td>\n      <td>5.000000</td>\n      <td>11.000000</td>\n      <td>1.000000</td>\n      <td>1.000000</td>\n      <td>1.000000</td>\n      <td>1.500000</td>\n    </tr>\n    <tr>\n      <th>75%</th>\n      <td>1615.250000</td>\n      <td>1.0000</td>\n      <td>2.200000</td>\n      <td>1.000000</td>\n      <td>7.000000</td>\n      <td>1.000000</td>\n      <td>48.000000</td>\n      <td>0.800000</td>\n      <td>170.000000</td>\n      <td>7.000000</td>\n      <td>...</td>\n      <td>947.250000</td>\n      <td>1633.000000</td>\n      <td>3064.500000</td>\n      <td>16.000000</td>\n      <td>9.000000</td>\n      <td>16.000000</td>\n      <td>1.000000</td>\n      <td>1.000000</td>\n      <td>1.000000</td>\n      <td>2.250000</td>\n    </tr>\n    <tr>\n      <th>max</th>\n      <td>1998.000000</td>\n      <td>1.0000</td>\n      <td>3.000000</td>\n      <td>1.000000</td>\n      <td>19.000000</td>\n      <td>1.000000</td>\n      <td>64.000000</td>\n      <td>1.000000</td>\n      <td>200.000000</td>\n      <td>8.000000</td>\n      <td>...</td>\n      <td>1960.000000</td>\n      <td>1998.000000</td>\n      <td>3998.000000</td>\n      <td>19.000000</td>\n      <td>18.000000</td>\n      <td>20.000000</td>\n      <td>1.000000</td>\n      <td>1.000000</td>\n      <td>1.000000</td>\n      <td>3.000000</td>\n    </tr>\n  </tbody>\n</table>\n<p>8 rows × 21 columns</p>\n</div>"
     },
     "metadata": {},
     "execution_count": 31
    }
   ],
   "source": [
    "dataset.describe()\n",
    "#Melihat deskripsi dataset"
   ]
  },
  {
   "cell_type": "code",
   "execution_count": 32,
   "metadata": {},
   "outputs": [
    {
     "output_type": "execute_result",
     "data": {
      "text/plain": [
       "battery_power    False\n",
       "blue             False\n",
       "clock_speed      False\n",
       "dual_sim         False\n",
       "fc               False\n",
       "four_g           False\n",
       "int_memory       False\n",
       "m_dep            False\n",
       "mobile_wt        False\n",
       "n_cores          False\n",
       "pc               False\n",
       "px_height        False\n",
       "px_width         False\n",
       "ram              False\n",
       "sc_h             False\n",
       "sc_w             False\n",
       "talk_time        False\n",
       "three_g          False\n",
       "touch_screen     False\n",
       "wifi             False\n",
       "price_range      False\n",
       "dtype: bool"
      ]
     },
     "metadata": {},
     "execution_count": 32
    }
   ],
   "source": [
    "dataset.isnull().any()\n",
    "#Mengechek adakah nilai null/missing"
   ]
  },
  {
   "cell_type": "code",
   "execution_count": 33,
   "metadata": {},
   "outputs": [
    {
     "output_type": "execute_result",
     "data": {
      "text/plain": [
       "3    500\n",
       "2    500\n",
       "1    500\n",
       "0    500\n",
       "Name: price_range, dtype: int64"
      ]
     },
     "metadata": {},
     "execution_count": 33
    }
   ],
   "source": [
    "dataset['price_range'].value_counts()\n",
    "# Melihat berapa banyak jumlah per range harga"
   ]
  },
  {
   "cell_type": "code",
   "execution_count": 34,
   "metadata": {},
   "outputs": [],
   "source": [
    "x = dataset.iloc[:,:20]\n",
    "y = dataset.iloc[:,20:]"
   ]
  },
  {
   "cell_type": "code",
   "execution_count": 35,
   "metadata": {},
   "outputs": [
    {
     "output_type": "execute_result",
     "data": {
      "text/plain": [
       "      battery_power  blue  clock_speed  dual_sim  fc  four_g  int_memory  \\\n",
       "0               842     0          2.2         0   1       0           7   \n",
       "1              1021     1          0.5         1   0       1          53   \n",
       "2               563     1          0.5         1   2       1          41   \n",
       "3               615     1          2.5         0   0       0          10   \n",
       "4              1821     1          1.2         0  13       1          44   \n",
       "...             ...   ...          ...       ...  ..     ...         ...   \n",
       "1995            794     1          0.5         1   0       1           2   \n",
       "1996           1965     1          2.6         1   0       0          39   \n",
       "1997           1911     0          0.9         1   1       1          36   \n",
       "1998           1512     0          0.9         0   4       1          46   \n",
       "1999            510     1          2.0         1   5       1          45   \n",
       "\n",
       "      m_dep  mobile_wt  n_cores  pc  px_height  px_width   ram  sc_h  sc_w  \\\n",
       "0       0.6        188        2   2         20       756  2549     9     7   \n",
       "1       0.7        136        3   6        905      1988  2631    17     3   \n",
       "2       0.9        145        5   6       1263      1716  2603    11     2   \n",
       "3       0.8        131        6   9       1216      1786  2769    16     8   \n",
       "4       0.6        141        2  14       1208      1212  1411     8     2   \n",
       "...     ...        ...      ...  ..        ...       ...   ...   ...   ...   \n",
       "1995    0.8        106        6  14       1222      1890   668    13     4   \n",
       "1996    0.2        187        4   3        915      1965  2032    11    10   \n",
       "1997    0.7        108        8   3        868      1632  3057     9     1   \n",
       "1998    0.1        145        5   5        336       670   869    18    10   \n",
       "1999    0.9        168        6  16        483       754  3919    19     4   \n",
       "\n",
       "      talk_time  three_g  touch_screen  wifi  \n",
       "0            19        0             0     1  \n",
       "1             7        1             1     0  \n",
       "2             9        1             1     0  \n",
       "3            11        1             0     0  \n",
       "4            15        1             1     0  \n",
       "...         ...      ...           ...   ...  \n",
       "1995         19        1             1     0  \n",
       "1996         16        1             1     1  \n",
       "1997          5        1             1     0  \n",
       "1998         19        1             1     1  \n",
       "1999          2        1             1     1  \n",
       "\n",
       "[2000 rows x 20 columns]"
      ],
      "text/html": "<div>\n<style scoped>\n    .dataframe tbody tr th:only-of-type {\n        vertical-align: middle;\n    }\n\n    .dataframe tbody tr th {\n        vertical-align: top;\n    }\n\n    .dataframe thead th {\n        text-align: right;\n    }\n</style>\n<table border=\"1\" class=\"dataframe\">\n  <thead>\n    <tr style=\"text-align: right;\">\n      <th></th>\n      <th>battery_power</th>\n      <th>blue</th>\n      <th>clock_speed</th>\n      <th>dual_sim</th>\n      <th>fc</th>\n      <th>four_g</th>\n      <th>int_memory</th>\n      <th>m_dep</th>\n      <th>mobile_wt</th>\n      <th>n_cores</th>\n      <th>pc</th>\n      <th>px_height</th>\n      <th>px_width</th>\n      <th>ram</th>\n      <th>sc_h</th>\n      <th>sc_w</th>\n      <th>talk_time</th>\n      <th>three_g</th>\n      <th>touch_screen</th>\n      <th>wifi</th>\n    </tr>\n  </thead>\n  <tbody>\n    <tr>\n      <th>0</th>\n      <td>842</td>\n      <td>0</td>\n      <td>2.2</td>\n      <td>0</td>\n      <td>1</td>\n      <td>0</td>\n      <td>7</td>\n      <td>0.6</td>\n      <td>188</td>\n      <td>2</td>\n      <td>2</td>\n      <td>20</td>\n      <td>756</td>\n      <td>2549</td>\n      <td>9</td>\n      <td>7</td>\n      <td>19</td>\n      <td>0</td>\n      <td>0</td>\n      <td>1</td>\n    </tr>\n    <tr>\n      <th>1</th>\n      <td>1021</td>\n      <td>1</td>\n      <td>0.5</td>\n      <td>1</td>\n      <td>0</td>\n      <td>1</td>\n      <td>53</td>\n      <td>0.7</td>\n      <td>136</td>\n      <td>3</td>\n      <td>6</td>\n      <td>905</td>\n      <td>1988</td>\n      <td>2631</td>\n      <td>17</td>\n      <td>3</td>\n      <td>7</td>\n      <td>1</td>\n      <td>1</td>\n      <td>0</td>\n    </tr>\n    <tr>\n      <th>2</th>\n      <td>563</td>\n      <td>1</td>\n      <td>0.5</td>\n      <td>1</td>\n      <td>2</td>\n      <td>1</td>\n      <td>41</td>\n      <td>0.9</td>\n      <td>145</td>\n      <td>5</td>\n      <td>6</td>\n      <td>1263</td>\n      <td>1716</td>\n      <td>2603</td>\n      <td>11</td>\n      <td>2</td>\n      <td>9</td>\n      <td>1</td>\n      <td>1</td>\n      <td>0</td>\n    </tr>\n    <tr>\n      <th>3</th>\n      <td>615</td>\n      <td>1</td>\n      <td>2.5</td>\n      <td>0</td>\n      <td>0</td>\n      <td>0</td>\n      <td>10</td>\n      <td>0.8</td>\n      <td>131</td>\n      <td>6</td>\n      <td>9</td>\n      <td>1216</td>\n      <td>1786</td>\n      <td>2769</td>\n      <td>16</td>\n      <td>8</td>\n      <td>11</td>\n      <td>1</td>\n      <td>0</td>\n      <td>0</td>\n    </tr>\n    <tr>\n      <th>4</th>\n      <td>1821</td>\n      <td>1</td>\n      <td>1.2</td>\n      <td>0</td>\n      <td>13</td>\n      <td>1</td>\n      <td>44</td>\n      <td>0.6</td>\n      <td>141</td>\n      <td>2</td>\n      <td>14</td>\n      <td>1208</td>\n      <td>1212</td>\n      <td>1411</td>\n      <td>8</td>\n      <td>2</td>\n      <td>15</td>\n      <td>1</td>\n      <td>1</td>\n      <td>0</td>\n    </tr>\n    <tr>\n      <th>...</th>\n      <td>...</td>\n      <td>...</td>\n      <td>...</td>\n      <td>...</td>\n      <td>...</td>\n      <td>...</td>\n      <td>...</td>\n      <td>...</td>\n      <td>...</td>\n      <td>...</td>\n      <td>...</td>\n      <td>...</td>\n      <td>...</td>\n      <td>...</td>\n      <td>...</td>\n      <td>...</td>\n      <td>...</td>\n      <td>...</td>\n      <td>...</td>\n      <td>...</td>\n    </tr>\n    <tr>\n      <th>1995</th>\n      <td>794</td>\n      <td>1</td>\n      <td>0.5</td>\n      <td>1</td>\n      <td>0</td>\n      <td>1</td>\n      <td>2</td>\n      <td>0.8</td>\n      <td>106</td>\n      <td>6</td>\n      <td>14</td>\n      <td>1222</td>\n      <td>1890</td>\n      <td>668</td>\n      <td>13</td>\n      <td>4</td>\n      <td>19</td>\n      <td>1</td>\n      <td>1</td>\n      <td>0</td>\n    </tr>\n    <tr>\n      <th>1996</th>\n      <td>1965</td>\n      <td>1</td>\n      <td>2.6</td>\n      <td>1</td>\n      <td>0</td>\n      <td>0</td>\n      <td>39</td>\n      <td>0.2</td>\n      <td>187</td>\n      <td>4</td>\n      <td>3</td>\n      <td>915</td>\n      <td>1965</td>\n      <td>2032</td>\n      <td>11</td>\n      <td>10</td>\n      <td>16</td>\n      <td>1</td>\n      <td>1</td>\n      <td>1</td>\n    </tr>\n    <tr>\n      <th>1997</th>\n      <td>1911</td>\n      <td>0</td>\n      <td>0.9</td>\n      <td>1</td>\n      <td>1</td>\n      <td>1</td>\n      <td>36</td>\n      <td>0.7</td>\n      <td>108</td>\n      <td>8</td>\n      <td>3</td>\n      <td>868</td>\n      <td>1632</td>\n      <td>3057</td>\n      <td>9</td>\n      <td>1</td>\n      <td>5</td>\n      <td>1</td>\n      <td>1</td>\n      <td>0</td>\n    </tr>\n    <tr>\n      <th>1998</th>\n      <td>1512</td>\n      <td>0</td>\n      <td>0.9</td>\n      <td>0</td>\n      <td>4</td>\n      <td>1</td>\n      <td>46</td>\n      <td>0.1</td>\n      <td>145</td>\n      <td>5</td>\n      <td>5</td>\n      <td>336</td>\n      <td>670</td>\n      <td>869</td>\n      <td>18</td>\n      <td>10</td>\n      <td>19</td>\n      <td>1</td>\n      <td>1</td>\n      <td>1</td>\n    </tr>\n    <tr>\n      <th>1999</th>\n      <td>510</td>\n      <td>1</td>\n      <td>2.0</td>\n      <td>1</td>\n      <td>5</td>\n      <td>1</td>\n      <td>45</td>\n      <td>0.9</td>\n      <td>168</td>\n      <td>6</td>\n      <td>16</td>\n      <td>483</td>\n      <td>754</td>\n      <td>3919</td>\n      <td>19</td>\n      <td>4</td>\n      <td>2</td>\n      <td>1</td>\n      <td>1</td>\n      <td>1</td>\n    </tr>\n  </tbody>\n</table>\n<p>2000 rows × 20 columns</p>\n</div>"
     },
     "metadata": {},
     "execution_count": 35
    }
   ],
   "source": [
    "x"
   ]
  },
  {
   "cell_type": "code",
   "execution_count": 36,
   "metadata": {},
   "outputs": [
    {
     "output_type": "execute_result",
     "data": {
      "text/plain": [
       "      price_range\n",
       "0               1\n",
       "1               2\n",
       "2               2\n",
       "3               2\n",
       "4               1\n",
       "...           ...\n",
       "1995            0\n",
       "1996            2\n",
       "1997            3\n",
       "1998            0\n",
       "1999            3\n",
       "\n",
       "[2000 rows x 1 columns]"
      ],
      "text/html": "<div>\n<style scoped>\n    .dataframe tbody tr th:only-of-type {\n        vertical-align: middle;\n    }\n\n    .dataframe tbody tr th {\n        vertical-align: top;\n    }\n\n    .dataframe thead th {\n        text-align: right;\n    }\n</style>\n<table border=\"1\" class=\"dataframe\">\n  <thead>\n    <tr style=\"text-align: right;\">\n      <th></th>\n      <th>price_range</th>\n    </tr>\n  </thead>\n  <tbody>\n    <tr>\n      <th>0</th>\n      <td>1</td>\n    </tr>\n    <tr>\n      <th>1</th>\n      <td>2</td>\n    </tr>\n    <tr>\n      <th>2</th>\n      <td>2</td>\n    </tr>\n    <tr>\n      <th>3</th>\n      <td>2</td>\n    </tr>\n    <tr>\n      <th>4</th>\n      <td>1</td>\n    </tr>\n    <tr>\n      <th>...</th>\n      <td>...</td>\n    </tr>\n    <tr>\n      <th>1995</th>\n      <td>0</td>\n    </tr>\n    <tr>\n      <th>1996</th>\n      <td>2</td>\n    </tr>\n    <tr>\n      <th>1997</th>\n      <td>3</td>\n    </tr>\n    <tr>\n      <th>1998</th>\n      <td>0</td>\n    </tr>\n    <tr>\n      <th>1999</th>\n      <td>3</td>\n    </tr>\n  </tbody>\n</table>\n<p>2000 rows × 1 columns</p>\n</div>"
     },
     "metadata": {},
     "execution_count": 36
    }
   ],
   "source": [
    "y"
   ]
  },
  {
   "cell_type": "code",
   "execution_count": 37,
   "metadata": {},
   "outputs": [
    {
     "output_type": "stream",
     "name": "stdout",
     "text": [
      "(2000, 20)\n(2000, 1)\n"
     ]
    }
   ],
   "source": [
    "print(x.shape)\n",
    "print(y.shape)"
   ]
  },
  {
   "cell_type": "code",
   "execution_count": 38,
   "metadata": {},
   "outputs": [],
   "source": [
    "best_feature = SelectKBest(chi2, k= 10)\n",
    "fit = best_feature.fit(x,y)"
   ]
  },
  {
   "cell_type": "code",
   "execution_count": 39,
   "metadata": {},
   "outputs": [],
   "source": [
    "dfscores = pd.DataFrame(fit.scores_)\n",
    "dfcolumns = pd.DataFrame(x.columns)"
   ]
  },
  {
   "cell_type": "code",
   "execution_count": 40,
   "metadata": {},
   "outputs": [],
   "source": [
    "score_list = pd.concat([dfcolumns, dfscores], axis=1)\n",
    "score_list.columns = [\"features\",\"scores\"]"
   ]
  },
  {
   "cell_type": "code",
   "execution_count": 41,
   "metadata": {},
   "outputs": [
    {
     "output_type": "execute_result",
     "data": {
      "text/plain": [
       "         features         scores\n",
       "0   battery_power   14129.866576\n",
       "1            blue       0.723232\n",
       "2     clock_speed       0.648366\n",
       "3        dual_sim       0.631011\n",
       "4              fc      10.135166\n",
       "5          four_g       1.521572\n",
       "6      int_memory      89.839124\n",
       "7           m_dep       0.745820\n",
       "8       mobile_wt      95.972863\n",
       "9         n_cores       9.097556\n",
       "10             pc       9.186054\n",
       "11      px_height   17363.569536\n",
       "12       px_width    9810.586750\n",
       "13            ram  931267.519053\n",
       "14           sc_h       9.614878\n",
       "15           sc_w      16.480319\n",
       "16      talk_time      13.236400\n",
       "17        three_g       0.327643\n",
       "18   touch_screen       1.928429\n",
       "19           wifi       0.422091"
      ],
      "text/html": "<div>\n<style scoped>\n    .dataframe tbody tr th:only-of-type {\n        vertical-align: middle;\n    }\n\n    .dataframe tbody tr th {\n        vertical-align: top;\n    }\n\n    .dataframe thead th {\n        text-align: right;\n    }\n</style>\n<table border=\"1\" class=\"dataframe\">\n  <thead>\n    <tr style=\"text-align: right;\">\n      <th></th>\n      <th>features</th>\n      <th>scores</th>\n    </tr>\n  </thead>\n  <tbody>\n    <tr>\n      <th>0</th>\n      <td>battery_power</td>\n      <td>14129.866576</td>\n    </tr>\n    <tr>\n      <th>1</th>\n      <td>blue</td>\n      <td>0.723232</td>\n    </tr>\n    <tr>\n      <th>2</th>\n      <td>clock_speed</td>\n      <td>0.648366</td>\n    </tr>\n    <tr>\n      <th>3</th>\n      <td>dual_sim</td>\n      <td>0.631011</td>\n    </tr>\n    <tr>\n      <th>4</th>\n      <td>fc</td>\n      <td>10.135166</td>\n    </tr>\n    <tr>\n      <th>5</th>\n      <td>four_g</td>\n      <td>1.521572</td>\n    </tr>\n    <tr>\n      <th>6</th>\n      <td>int_memory</td>\n      <td>89.839124</td>\n    </tr>\n    <tr>\n      <th>7</th>\n      <td>m_dep</td>\n      <td>0.745820</td>\n    </tr>\n    <tr>\n      <th>8</th>\n      <td>mobile_wt</td>\n      <td>95.972863</td>\n    </tr>\n    <tr>\n      <th>9</th>\n      <td>n_cores</td>\n      <td>9.097556</td>\n    </tr>\n    <tr>\n      <th>10</th>\n      <td>pc</td>\n      <td>9.186054</td>\n    </tr>\n    <tr>\n      <th>11</th>\n      <td>px_height</td>\n      <td>17363.569536</td>\n    </tr>\n    <tr>\n      <th>12</th>\n      <td>px_width</td>\n      <td>9810.586750</td>\n    </tr>\n    <tr>\n      <th>13</th>\n      <td>ram</td>\n      <td>931267.519053</td>\n    </tr>\n    <tr>\n      <th>14</th>\n      <td>sc_h</td>\n      <td>9.614878</td>\n    </tr>\n    <tr>\n      <th>15</th>\n      <td>sc_w</td>\n      <td>16.480319</td>\n    </tr>\n    <tr>\n      <th>16</th>\n      <td>talk_time</td>\n      <td>13.236400</td>\n    </tr>\n    <tr>\n      <th>17</th>\n      <td>three_g</td>\n      <td>0.327643</td>\n    </tr>\n    <tr>\n      <th>18</th>\n      <td>touch_screen</td>\n      <td>1.928429</td>\n    </tr>\n    <tr>\n      <th>19</th>\n      <td>wifi</td>\n      <td>0.422091</td>\n    </tr>\n  </tbody>\n</table>\n</div>"
     },
     "metadata": {},
     "execution_count": 41
    }
   ],
   "source": [
    "score_list"
   ]
  },
  {
   "cell_type": "code",
   "execution_count": 42,
   "metadata": {},
   "outputs": [
    {
     "output_type": "stream",
     "name": "stdout",
     "text": [
      "         features         scores\n13            ram  931267.519053\n11      px_height   17363.569536\n0   battery_power   14129.866576\n12       px_width    9810.586750\n8       mobile_wt      95.972863\n6      int_memory      89.839124\n15           sc_w      16.480319\n16      talk_time      13.236400\n4              fc      10.135166\n14           sc_h       9.614878\n"
     ]
    }
   ],
   "source": [
    "print(score_list.nlargest(10,\"scores\"))"
   ]
  },
  {
   "cell_type": "code",
   "execution_count": 43,
   "metadata": {},
   "outputs": [],
   "source": [
    "dataset.drop(dataset.columns[[1,2,3,5,7,9,10,17,18,19,6,15,16,4,14]],axis=1,inplace=True)"
   ]
  },
  {
   "cell_type": "code",
   "execution_count": 44,
   "metadata": {},
   "outputs": [
    {
     "output_type": "execute_result",
     "data": {
      "text/plain": [
       "   battery_power  mobile_wt  px_height  px_width   ram  price_range\n",
       "0            842        188         20       756  2549            1\n",
       "1           1021        136        905      1988  2631            2\n",
       "2            563        145       1263      1716  2603            2\n",
       "3            615        131       1216      1786  2769            2\n",
       "4           1821        141       1208      1212  1411            1"
      ],
      "text/html": "<div>\n<style scoped>\n    .dataframe tbody tr th:only-of-type {\n        vertical-align: middle;\n    }\n\n    .dataframe tbody tr th {\n        vertical-align: top;\n    }\n\n    .dataframe thead th {\n        text-align: right;\n    }\n</style>\n<table border=\"1\" class=\"dataframe\">\n  <thead>\n    <tr style=\"text-align: right;\">\n      <th></th>\n      <th>battery_power</th>\n      <th>mobile_wt</th>\n      <th>px_height</th>\n      <th>px_width</th>\n      <th>ram</th>\n      <th>price_range</th>\n    </tr>\n  </thead>\n  <tbody>\n    <tr>\n      <th>0</th>\n      <td>842</td>\n      <td>188</td>\n      <td>20</td>\n      <td>756</td>\n      <td>2549</td>\n      <td>1</td>\n    </tr>\n    <tr>\n      <th>1</th>\n      <td>1021</td>\n      <td>136</td>\n      <td>905</td>\n      <td>1988</td>\n      <td>2631</td>\n      <td>2</td>\n    </tr>\n    <tr>\n      <th>2</th>\n      <td>563</td>\n      <td>145</td>\n      <td>1263</td>\n      <td>1716</td>\n      <td>2603</td>\n      <td>2</td>\n    </tr>\n    <tr>\n      <th>3</th>\n      <td>615</td>\n      <td>131</td>\n      <td>1216</td>\n      <td>1786</td>\n      <td>2769</td>\n      <td>2</td>\n    </tr>\n    <tr>\n      <th>4</th>\n      <td>1821</td>\n      <td>141</td>\n      <td>1208</td>\n      <td>1212</td>\n      <td>1411</td>\n      <td>1</td>\n    </tr>\n  </tbody>\n</table>\n</div>"
     },
     "metadata": {},
     "execution_count": 44
    }
   ],
   "source": [
    "dataset.head()"
   ]
  },
  {
   "cell_type": "code",
   "execution_count": 45,
   "metadata": {},
   "outputs": [
    {
     "output_type": "execute_result",
     "data": {
      "text/plain": [
       "      battery_power  mobile_wt  px_height  px_width   ram  price_range\n",
       "1995            794        106       1222      1890   668            0\n",
       "1996           1965        187        915      1965  2032            2\n",
       "1997           1911        108        868      1632  3057            3\n",
       "1998           1512        145        336       670   869            0\n",
       "1999            510        168        483       754  3919            3"
      ],
      "text/html": "<div>\n<style scoped>\n    .dataframe tbody tr th:only-of-type {\n        vertical-align: middle;\n    }\n\n    .dataframe tbody tr th {\n        vertical-align: top;\n    }\n\n    .dataframe thead th {\n        text-align: right;\n    }\n</style>\n<table border=\"1\" class=\"dataframe\">\n  <thead>\n    <tr style=\"text-align: right;\">\n      <th></th>\n      <th>battery_power</th>\n      <th>mobile_wt</th>\n      <th>px_height</th>\n      <th>px_width</th>\n      <th>ram</th>\n      <th>price_range</th>\n    </tr>\n  </thead>\n  <tbody>\n    <tr>\n      <th>1995</th>\n      <td>794</td>\n      <td>106</td>\n      <td>1222</td>\n      <td>1890</td>\n      <td>668</td>\n      <td>0</td>\n    </tr>\n    <tr>\n      <th>1996</th>\n      <td>1965</td>\n      <td>187</td>\n      <td>915</td>\n      <td>1965</td>\n      <td>2032</td>\n      <td>2</td>\n    </tr>\n    <tr>\n      <th>1997</th>\n      <td>1911</td>\n      <td>108</td>\n      <td>868</td>\n      <td>1632</td>\n      <td>3057</td>\n      <td>3</td>\n    </tr>\n    <tr>\n      <th>1998</th>\n      <td>1512</td>\n      <td>145</td>\n      <td>336</td>\n      <td>670</td>\n      <td>869</td>\n      <td>0</td>\n    </tr>\n    <tr>\n      <th>1999</th>\n      <td>510</td>\n      <td>168</td>\n      <td>483</td>\n      <td>754</td>\n      <td>3919</td>\n      <td>3</td>\n    </tr>\n  </tbody>\n</table>\n</div>"
     },
     "metadata": {},
     "execution_count": 45
    }
   ],
   "source": [
    "dataset.tail()"
   ]
  },
  {
   "cell_type": "code",
   "execution_count": 46,
   "metadata": {},
   "outputs": [],
   "source": [
    "x = dataset.iloc[:,0:5].values\n",
    "y = dataset.iloc[:,5:].values"
   ]
  },
  {
   "cell_type": "code",
   "execution_count": 47,
   "metadata": {},
   "outputs": [
    {
     "output_type": "execute_result",
     "data": {
      "text/plain": [
       "array([[ 842,  188,   20,  756, 2549],\n",
       "       [1021,  136,  905, 1988, 2631],\n",
       "       [ 563,  145, 1263, 1716, 2603],\n",
       "       ...,\n",
       "       [1911,  108,  868, 1632, 3057],\n",
       "       [1512,  145,  336,  670,  869],\n",
       "       [ 510,  168,  483,  754, 3919]], dtype=int64)"
      ]
     },
     "metadata": {},
     "execution_count": 47
    }
   ],
   "source": [
    "x"
   ]
  },
  {
   "cell_type": "code",
   "execution_count": 48,
   "metadata": {},
   "outputs": [
    {
     "output_type": "execute_result",
     "data": {
      "text/plain": [
       "array([[1],\n",
       "       [2],\n",
       "       [2],\n",
       "       ...,\n",
       "       [3],\n",
       "       [0],\n",
       "       [3]], dtype=int64)"
      ]
     },
     "metadata": {},
     "execution_count": 48
    }
   ],
   "source": [
    "y"
   ]
  },
  {
   "cell_type": "code",
   "execution_count": 49,
   "metadata": {},
   "outputs": [],
   "source": [
    "X_train,X_test,y_train,y_test = train_test_split(x,y,test_size=0.2,random_state=0)"
   ]
  },
  {
   "cell_type": "code",
   "execution_count": 50,
   "metadata": {},
   "outputs": [
    {
     "output_type": "stream",
     "name": "stdout",
     "text": [
      "(1600, 5)\n(400, 5)\n(1600, 1)\n(400, 1)\n"
     ]
    }
   ],
   "source": [
    "print(X_train.shape)\n",
    "print(X_test.shape)\n",
    "print(y_train.shape)\n",
    "print(y_test.shape)"
   ]
  },
  {
   "cell_type": "code",
   "execution_count": 51,
   "metadata": {},
   "outputs": [],
   "source": [
    "#Membuat pipeline\n",
    "pipe_rf = Pipeline([('scalar', StandardScaler()),\n",
    "                    ('rf', RandomForestClassifier(random_state=0))])\n",
    "\n",
    "pipe_knn = Pipeline([('scalar', StandardScaler()),\n",
    "                    ('knn', KNeighborsClassifier())])\n",
    "\n",
    "pipe_dt = Pipeline([('scalar', StandardScaler()),\n",
    "                    ('dt', DecisionTreeClassifier())])"
   ]
  },
  {
   "cell_type": "code",
   "execution_count": 52,
   "metadata": {},
   "outputs": [],
   "source": [
    "#Set grid search params\n",
    "criterion_params = ['gini','entropy']\n",
    "\n",
    "grid_params_rf = [{'rf__n_estimators':[1,10,100,1000,10000],\n",
    "                    'rf__criterion': criterion_params}]\n",
    "grid_params_knn = [{'knn__n_neighbors':[1,2,3,4,5,10,15,20,25],\n",
    "                    'knn__weights':['uniform','distance'],\n",
    "                    'knn__algorithm':['auto','ball_tree','kd_tree','brute']}]\n",
    "grid_params_dt = [{'dt__criterion':criterion_params,\n",
    "                    'dt__splitter':['best','random']}]\n"
   ]
  },
  {
   "cell_type": "code",
   "execution_count": 53,
   "metadata": {},
   "outputs": [],
   "source": [
    "# Construct grid searches\n",
    "jobs = -1\n",
    "\n",
    "\n",
    "RF = GridSearchCV(estimator=pipe_rf,param_grid=grid_params_rf,scoring='accuracy',cv=10,n_jobs=jobs)\n",
    "KNN = GridSearchCV(estimator=pipe_knn,param_grid=grid_params_knn,scoring='accuracy',cv=10,n_jobs=jobs)\n",
    "DT = GridSearchCV(estimator=pipe_dt,param_grid=grid_params_dt,scoring='accuracy',cv=10)\n",
    "\n",
    "#List dari pipeline untuk nantinya akan diiterasi\n",
    "grids = [RF, KNN, DT]\n",
    "\n",
    "#Membuat dictionary untuk dijadikan referensi\n",
    "grid_dict = {0:'Random Forest Classifier',\n",
    "             1:'KNeighbors Classifier',\n",
    "             2:'Decission Tree Classifier'}\n",
    "\n"
   ]
  },
  {
   "cell_type": "code",
   "execution_count": 54,
   "metadata": {},
   "outputs": [
    {
     "output_type": "stream",
     "name": "stdout",
     "text": [
      "Memulai optimisasi model....\n",
      "\n",
      "Estimator: Random Forest Classifier\n",
      "Best parameter adalah : {'rf__criterion': 'entropy', 'rf__n_estimators': 1000}\n",
      "Best training accuracy : 0.910\n",
      "Test set accuracy score for best params : 0.915\n",
      "\n",
      "Estimator: KNeighbors Classifier\n",
      "Best parameter adalah : {'knn__algorithm': 'auto', 'knn__n_neighbors': 20, 'knn__weights': 'distance'}\n",
      "Best training accuracy : 0.863\n",
      "Test set accuracy score for best params : 0.895\n",
      "\n",
      "Estimator: Decission Tree Classifier\n",
      "Best parameter adalah : {'dt__criterion': 'entropy', 'dt__splitter': 'best'}\n",
      "Best training accuracy : 0.871\n",
      "Test set accuracy score for best params : 0.875\n",
      "\n",
      "Classifier dengan best test set accuracy : Random Forest Classifier\n"
     ]
    }
   ],
   "source": [
    "#Membuat grid search object\n",
    "print('Memulai optimisasi model....')\n",
    "best_acc=0.0\n",
    "best_clf=0\n",
    "best_gs =''\n",
    "\n",
    "for idx, gs in enumerate(grids):\n",
    "    print('\\nEstimator: %s'%grid_dict[idx])\n",
    "    gs.fit(X_train,y_train.ravel())\n",
    "    print('Best parameter adalah : %s'%gs.best_params_)\n",
    "    #Best training data accuracy\n",
    "    print('Best training accuracy : %.3f'%gs.best_score_)\n",
    "    #Prediksi berdasarkan data test dengan best parameter\n",
    "    y_pred = gs.predict(X_test)\n",
    "    #Test data accuracy dari model berdasarkan best parameter\n",
    "    print('Test set accuracy score for best params : %.3f'%accuracy_score(y_test, y_pred))\n",
    "    #Mencari best model dengan akurasi tertinggi\n",
    "    if accuracy_score(y_test,y_pred) > best_acc:\n",
    "        best_acc = accuracy_score(y_test,y_pred)\n",
    "        best_gs = gs\n",
    "        best_clf = idx\n",
    "\n",
    "print('\\nClassifier dengan best test set accuracy : %s'%grid_dict[best_clf])"
   ]
  }
 ]
}